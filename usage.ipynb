{
 "cells": [
  {
   "cell_type": "markdown",
   "metadata": {},
   "source": [
    "# Caching Tools Usage Notebook"
   ]
  },
  {
   "cell_type": "markdown",
   "metadata": {},
   "source": [
    "An example of heavy computation"
   ]
  },
  {
   "cell_type": "code",
   "execution_count": 1,
   "metadata": {},
   "outputs": [
    {
     "name": "stdout",
     "output_type": "stream",
     "text": [
      "CPU times: user 3.38 s, sys: 0 ns, total: 3.38 s\n",
      "Wall time: 3.38 s\n"
     ]
    },
    {
     "data": {
      "text/plain": [
       "24157817"
      ]
     },
     "execution_count": 1,
     "metadata": {},
     "output_type": "execute_result"
    }
   ],
   "source": [
    "def fibonacci(n):\n",
    "    if n <= 1:\n",
    "        return n\n",
    "    else:\n",
    "        return fibonacci(n-1) + fibonacci(n-2)\n",
    "\n",
    "%time fibonacci(37)"
   ]
  },
  {
   "cell_type": "markdown",
   "metadata": {},
   "source": [
    "## CacheToDisk Usage"
   ]
  },
  {
   "cell_type": "markdown",
   "metadata": {},
   "source": [
    "Create an instance of the `CacheToDisk` class with desired parameters"
   ]
  },
  {
   "cell_type": "code",
   "execution_count": 2,
   "metadata": {},
   "outputs": [
    {
     "data": {
      "text/plain": [
       "CacheToDisk(directory=cache, compress=True, capacity=1000000)"
      ]
     },
     "execution_count": 2,
     "metadata": {},
     "output_type": "execute_result"
    }
   ],
   "source": [
    "from pathlib import Path\n",
    "from cachingtools import CacheToDisk\n",
    "\n",
    "\n",
    "cache_directory = Path('cache') # parent directory for the cache files\n",
    "compress = True # compress the cache files\n",
    "capacity = 1_000_000 # maximum number of bytes to store in the cache (1 MB)\n",
    "cache_to_disk = CacheToDisk(cache_directory, compress=compress, capacity=capacity)\n",
    "cache_to_disk"
   ]
  },
  {
   "cell_type": "markdown",
   "metadata": {},
   "source": [
    "Use the instance as a decorator for the function you want to cache"
   ]
  },
  {
   "cell_type": "code",
   "execution_count": 3,
   "metadata": {},
   "outputs": [
    {
     "name": "stdout",
     "output_type": "stream",
     "text": [
      "CPU times: user 24.1 ms, sys: 12 ms, total: 36.2 ms\n",
      "Wall time: 35.9 ms\n"
     ]
    },
    {
     "data": {
      "text/plain": [
       "24157817"
      ]
     },
     "execution_count": 3,
     "metadata": {},
     "output_type": "execute_result"
    }
   ],
   "source": [
    "# The following function will be cached to disk in the \"cache/fibonacci\" directory\n",
    "@cache_to_disk(\"fibonacci\")\n",
    "def fibonacci_cached(n):\n",
    "    if n <= 1:\n",
    "        return n\n",
    "    else:\n",
    "        return fibonacci_cached(n-1) + fibonacci_cached(n-2)\n",
    "\n",
    "%time fibonacci_cached(37)"
   ]
  },
  {
   "cell_type": "markdown",
   "metadata": {},
   "source": [
    "If you want to cache a method of a class do as follows:"
   ]
  },
  {
   "cell_type": "code",
   "execution_count": 4,
   "metadata": {},
   "outputs": [
    {
     "data": {
      "text/plain": [
       "4"
      ]
     },
     "execution_count": 4,
     "metadata": {},
     "output_type": "execute_result"
    }
   ],
   "source": [
    "class ExampleClass:\n",
    "    def compute(self, x):\n",
    "        return x**2\n",
    "\n",
    "# create a subclass of ExampleClass that caches the results of the compute method\n",
    "\n",
    "class ExampleClassCached(ExampleClass):\n",
    "    # cache the to disk in the \"cache/ExampleClass.compute\" directory\n",
    "    @cache_to_disk(\"ExampleClass.compute\")\n",
    "    def compute(self, x):\n",
    "        return super().compute(x)\n",
    "\n",
    "example = ExampleClassCached()\n",
    "example.compute(2)"
   ]
  },
  {
   "cell_type": "markdown",
   "metadata": {},
   "source": [
    "You can shrink the cache directory to the desired size by calling the `shrink` method.\n",
    "This method will delete least recently accessed cache files until the cache directory is\n",
    "below the desired size."
   ]
  },
  {
   "cell_type": "code",
   "execution_count": 5,
   "metadata": {},
   "outputs": [],
   "source": [
    "cache_to_disk.shrink(10000) # shrink the cache to 10 KB"
   ]
  },
  {
   "cell_type": "markdown",
   "metadata": {},
   "source": [
    "You can delete the cache directory by calling the `purge` method of the instance"
   ]
  },
  {
   "cell_type": "code",
   "execution_count": 6,
   "metadata": {},
   "outputs": [],
   "source": [
    "cache_to_disk.purge()"
   ]
  }
 ],
 "metadata": {
  "kernelspec": {
   "display_name": "ml",
   "language": "python",
   "name": "python3"
  },
  "language_info": {
   "codemirror_mode": {
    "name": "ipython",
    "version": 3
   },
   "file_extension": ".py",
   "mimetype": "text/x-python",
   "name": "python",
   "nbconvert_exporter": "python",
   "pygments_lexer": "ipython3",
   "version": "3.11.4"
  },
  "orig_nbformat": 4
 },
 "nbformat": 4,
 "nbformat_minor": 2
}
